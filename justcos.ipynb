{
 "cells": [
  {
   "cell_type": "code",
   "execution_count": null,
   "id": "49762a2a-37de-4c4a-9a29-9de470e8fa1a",
   "metadata": {},
   "outputs": [],
   "source": [
    "print(\"Hello World\")"
   ]
  },
  {
   "cell_type": "code",
   "execution_count": null,
   "id": "9a465ead",
   "metadata": {},
   "outputs": [],
   "source": [
    "print(\"Edit\")"
   ]
  },
  {
   "cell_type": "markdown",
   "id": "609391ca",
   "metadata": {},
   "source": []
  }
 ],
 "metadata": {
  "kernelspec": {
   "display_name": "Python 3 (ipykernel)",
   "language": "python",
   "name": "python3"
  }
 },
 "nbformat": 4,
 "nbformat_minor": 5
}
